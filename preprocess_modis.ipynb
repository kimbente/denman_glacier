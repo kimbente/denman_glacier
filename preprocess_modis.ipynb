{
 "cells": [
  {
   "cell_type": "code",
   "execution_count": 1,
   "id": "cdf0980e",
   "metadata": {},
   "outputs": [],
   "source": [
    "import torch\n",
    "import rasterio\n",
    "import numpy as np\n",
    "import pandas as pd\n",
    "import matplotlib.pyplot as plt"
   ]
  },
  {
   "cell_type": "code",
   "execution_count": 2,
   "id": "9e30c44d",
   "metadata": {},
   "outputs": [],
   "source": [
    "tif_path_image_hr = \"/home/kim/data/modis/moa125_2014_hp1_v01.tif\"\n",
    "\n",
    "# The hr image takes a while to load... (7 minutes)\n",
    "with rasterio.open(tif_path_image_hr) as src:\n",
    "    # Read the data (for single-band TIFs, read the first band)\n",
    "    image_hr = src.read(1)"
   ]
  },
  {
   "cell_type": "code",
   "execution_count": 3,
   "id": "02522263",
   "metadata": {},
   "outputs": [],
   "source": [
    "image_hr_tensor = torch.tensor(image_hr.astype(np.float16), dtype = torch.int16)\n",
    "del image_hr # Free memory"
   ]
  },
  {
   "cell_type": "code",
   "execution_count": null,
   "id": "3bbd4e73",
   "metadata": {},
   "outputs": [
    {
     "ename": "",
     "evalue": "",
     "output_type": "error",
     "traceback": [
      "\u001b[1;31mThe Kernel crashed while executing code in the current cell or a previous cell. \n",
      "\u001b[1;31mPlease review the code in the cell(s) to identify a possible cause of the failure. \n",
      "\u001b[1;31mClick <a href='https://aka.ms/vscodeJupyterKernelCrash'>here</a> for more info. \n",
      "\u001b[1;31mView Jupyter <a href='command:jupyter.viewOutput'>log</a> for further details."
     ]
    }
   ],
   "source": [
    "# Extract dims\n",
    "n_rows = image_hr_tensor.shape[0]\n",
    "n_columns = image_hr_tensor.shape[1]"
   ]
  },
  {
   "cell_type": "code",
   "execution_count": null,
   "id": "0693c640",
   "metadata": {},
   "outputs": [
    {
     "name": "stdout",
     "output_type": "stream",
     "text": [
      "torch.Size([41779, 48333])\n",
      "\n",
      "X shape: torch.Size([48333])\n",
      "Note, Antarctica is wider than it is tall.\n",
      "Y shape: torch.Size([41779])\n"
     ]
    }
   ],
   "source": [
    "print(image_hr_tensor.shape)\n",
    "print()\n",
    "\n",
    "x_min = -3174450\n",
    "x_max = x_min + n_columns * 125\n",
    "x = torch.linspace(start = x_min, end = x_max, steps = n_columns)\n",
    "print(\"X shape:\", x.shape)\n",
    "print(\"Note, Antarctica is wider than it is tall.\")\n",
    "\n",
    "y_max = 2406325\n",
    "y_min = y_max - n_rows * 125\n",
    "# NOTE: need to go from max to min to index from top left\n",
    "y = torch.linspace(start = y_max, end = y_min, steps = n_rows)\n",
    "print(\"Y shape:\", y.shape)\n",
    "\n",
    "XX, YY = torch.meshgrid(x, y, indexing = 'xy')\n",
    "XX.shape\n",
    "# Order: X, Y, image\n",
    "\n",
    "# Crashes sometimes\n",
    "image_hr_grid = torch.concat((XX.unsqueeze(0), YY.unsqueeze(0), image_hr_tensor.unsqueeze(0)), dim = 0)"
   ]
  },
  {
   "cell_type": "code",
   "execution_count": null,
   "id": "9f4210ca",
   "metadata": {},
   "outputs": [],
   "source": [
    "# function\n",
    "def subset_tensor(tensor, x_min, x_max, y_min, y_max):\n",
    "    \"\"\"\n",
    "    Subset a 3D tensor with shape (3, n_rows, n_columns) based on x and y ranges.\n",
    "    \"\"\"\n",
    "    x_mask = (tensor[0, 0, :] >= x_min) & (tensor[0, 0, :] <= x_max)\n",
    "    y_mask = (tensor[1, :, 0] >= y_min) & (tensor[1, :, 0] <= y_max)\n",
    "\n",
    "    # Convert to indices\n",
    "    x_inds = torch.where(x_mask)[0]\n",
    "    y_inds = torch.where(y_mask)[0]\n",
    "\n",
    "    # Use min/max to slice continuously\n",
    "    x_min_idx, x_max_idx = x_inds[0], x_inds[-1] + 1\n",
    "    y_min_idx, y_max_idx = y_inds[0], y_inds[-1] + 1\n",
    "\n",
    "    # NOTE: WE return a clone\n",
    "    return tensor[:, y_min_idx:y_max_idx, x_min_idx:x_max_idx].clone()"
   ]
  },
  {
   "cell_type": "code",
   "execution_count": null,
   "id": "b4a250a8",
   "metadata": {},
   "outputs": [],
   "source": [
    "import json\n",
    "with open(\"denman_bounding_box.json\") as f:\n",
    "    bounds = json.load(f)\n",
    "\n",
    "denman_subset = subset_tensor(\n",
    "    image_hr_grid, \n",
    "    bounds['x_min'], \n",
    "    bounds['x_max'], \n",
    "    bounds['y_min'], \n",
    "    bounds['y_max'])\n",
    "\n",
    "print(denman_subset.shape)"
   ]
  },
  {
   "cell_type": "code",
   "execution_count": null,
   "id": "59c44ccd",
   "metadata": {},
   "outputs": [],
   "source": [
    "torch.save(denman_subset, '/home/kim/data/modis/moa125_2014_hp1_v01_denman_with_grid.pt')"
   ]
  }
 ],
 "metadata": {
  "kernelspec": {
   "display_name": "base",
   "language": "python",
   "name": "python3"
  },
  "language_info": {
   "codemirror_mode": {
    "name": "ipython",
    "version": 3
   },
   "file_extension": ".py",
   "mimetype": "text/x-python",
   "name": "python",
   "nbconvert_exporter": "python",
   "pygments_lexer": "ipython3",
   "version": "3.11.3"
  }
 },
 "nbformat": 4,
 "nbformat_minor": 5
}
